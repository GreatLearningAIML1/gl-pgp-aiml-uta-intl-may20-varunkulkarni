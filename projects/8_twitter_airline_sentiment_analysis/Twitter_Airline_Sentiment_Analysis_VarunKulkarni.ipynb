{
 "cells": [
  {
   "cell_type": "markdown",
   "metadata": {},
   "source": [
    "<h1><center>Twitter US Airline Sentiment Analysis</center></h1>\n",
    "<h4><i><center>Varun Kulkarni (kulkarnivarun@outlook.com) </center></i></h4>"
   ]
  },
  {
   "cell_type": "markdown",
   "metadata": {},
   "source": [
    "## Objective\n",
    "Classify Tweet Sentiment\n",
    "\n",
    "## Context\n",
    "A sentiment analysis job about the problems of each major U.S. airline. Twitter data was scraped from February of 2015 and contributors were asked to first classify positive, negative, and neutral tweets, followed by categorizing negative reasons (such as \"late flight\" or \"rude service\"). \n",
    "\n",
    "\n",
    "## Data Description\n",
    "The project is from a dataset from Kaggle.\n",
    "Link to the Kaggle project site: https://www.kaggle.com/crowdflower/twitter-airline-sentiment\n",
    "The dataset has to be downloaded from the above Kaggle website.\n",
    "\n",
    "## Tasks\n",
    "1. [Reading Dataset and Understanding Columns](#1)\n",
    "2. [Data Preprocessing](#2)\n",
    "3. [Sentiment Classification Using CountVectorizer](#3)\n",
    "4. [Sentiment Classification Using TF-IDF Vectorizer](#4)\n",
    "5. [Summary](#5)   "
   ]
  },
  {
   "cell_type": "code",
   "execution_count": 1,
   "metadata": {},
   "outputs": [],
   "source": [
    "# Import relevant libraries\n",
    "from datetime import datetime\n",
    "import warnings\n",
    "import matplotlib.pyplot as plt\n",
    "import numpy as np   \n",
    "import seaborn as sns\n",
    "import pandas as pd  \n",
    "from bs4 import BeautifulSoup\n",
    "import unicodedata          \n",
    "import re\n",
    "import spacy\n",
    "import nltk                    \n",
    "from nltk.corpus import stopwords\n",
    "from nltk.tokenize.toktok import ToktokTokenizer\n",
    "\n",
    "# sklearn imports\n",
    "from sklearn.feature_extraction.text import CountVectorizer\n",
    "from sklearn.feature_extraction.text import TfidfVectorizer\n",
    "from sklearn.preprocessing import RobustScaler\n",
    "from sklearn.model_selection import train_test_split\n",
    "from sklearn.model_selection import cross_val_score\n",
    "from sklearn.ensemble import RandomForestClassifier\n",
    "\n",
    "# Imports from TF\n",
    "import tensorflow as tf\n",
    "from tensorflow.keras import optimizers, losses\n",
    "from tensorflow.keras.models import Sequential\n",
    "from tensorflow.keras.layers import InputLayer, Dense, BatchNormalization, Activation\n",
    "from tensorflow.keras.metrics import Recall, Precision\n",
    "\n",
    "%matplotlib inline\n",
    "warnings.filterwarnings('ignore')\n",
    "SEED=42 # \n",
    "NUM_FOLDS=10\n",
    "sns.set(color_codes=True)"
   ]
  },
  {
   "cell_type": "markdown",
   "metadata": {},
   "source": [
    "## Reading Dataset and Understanding Columns<a class=\"anchor\" id='1'></a>"
   ]
  },
  {
   "cell_type": "code",
   "execution_count": 2,
   "metadata": {},
   "outputs": [
    {
     "data": {
      "text/html": [
       "<div>\n",
       "<style scoped>\n",
       "    .dataframe tbody tr th:only-of-type {\n",
       "        vertical-align: middle;\n",
       "    }\n",
       "\n",
       "    .dataframe tbody tr th {\n",
       "        vertical-align: top;\n",
       "    }\n",
       "\n",
       "    .dataframe thead th {\n",
       "        text-align: right;\n",
       "    }\n",
       "</style>\n",
       "<table border=\"1\" class=\"dataframe\">\n",
       "  <thead>\n",
       "    <tr style=\"text-align: right;\">\n",
       "      <th></th>\n",
       "      <th>tweet_id</th>\n",
       "      <th>airline_sentiment</th>\n",
       "      <th>airline_sentiment_confidence</th>\n",
       "      <th>negativereason</th>\n",
       "      <th>negativereason_confidence</th>\n",
       "      <th>airline</th>\n",
       "      <th>airline_sentiment_gold</th>\n",
       "      <th>name</th>\n",
       "      <th>negativereason_gold</th>\n",
       "      <th>retweet_count</th>\n",
       "      <th>text</th>\n",
       "      <th>tweet_coord</th>\n",
       "      <th>tweet_created</th>\n",
       "      <th>tweet_location</th>\n",
       "      <th>user_timezone</th>\n",
       "    </tr>\n",
       "  </thead>\n",
       "  <tbody>\n",
       "    <tr>\n",
       "      <th>0</th>\n",
       "      <td>570306133677760513</td>\n",
       "      <td>neutral</td>\n",
       "      <td>1.0000</td>\n",
       "      <td>NaN</td>\n",
       "      <td>NaN</td>\n",
       "      <td>Virgin America</td>\n",
       "      <td>NaN</td>\n",
       "      <td>cairdin</td>\n",
       "      <td>NaN</td>\n",
       "      <td>0</td>\n",
       "      <td>@VirginAmerica What @dhepburn said.</td>\n",
       "      <td>NaN</td>\n",
       "      <td>2015-02-24 11:35:52 -0800</td>\n",
       "      <td>NaN</td>\n",
       "      <td>Eastern Time (US &amp; Canada)</td>\n",
       "    </tr>\n",
       "    <tr>\n",
       "      <th>1</th>\n",
       "      <td>570301130888122368</td>\n",
       "      <td>positive</td>\n",
       "      <td>0.3486</td>\n",
       "      <td>NaN</td>\n",
       "      <td>0.0000</td>\n",
       "      <td>Virgin America</td>\n",
       "      <td>NaN</td>\n",
       "      <td>jnardino</td>\n",
       "      <td>NaN</td>\n",
       "      <td>0</td>\n",
       "      <td>@VirginAmerica plus you've added commercials t...</td>\n",
       "      <td>NaN</td>\n",
       "      <td>2015-02-24 11:15:59 -0800</td>\n",
       "      <td>NaN</td>\n",
       "      <td>Pacific Time (US &amp; Canada)</td>\n",
       "    </tr>\n",
       "    <tr>\n",
       "      <th>2</th>\n",
       "      <td>570301083672813571</td>\n",
       "      <td>neutral</td>\n",
       "      <td>0.6837</td>\n",
       "      <td>NaN</td>\n",
       "      <td>NaN</td>\n",
       "      <td>Virgin America</td>\n",
       "      <td>NaN</td>\n",
       "      <td>yvonnalynn</td>\n",
       "      <td>NaN</td>\n",
       "      <td>0</td>\n",
       "      <td>@VirginAmerica I didn't today... Must mean I n...</td>\n",
       "      <td>NaN</td>\n",
       "      <td>2015-02-24 11:15:48 -0800</td>\n",
       "      <td>Lets Play</td>\n",
       "      <td>Central Time (US &amp; Canada)</td>\n",
       "    </tr>\n",
       "    <tr>\n",
       "      <th>3</th>\n",
       "      <td>570301031407624196</td>\n",
       "      <td>negative</td>\n",
       "      <td>1.0000</td>\n",
       "      <td>Bad Flight</td>\n",
       "      <td>0.7033</td>\n",
       "      <td>Virgin America</td>\n",
       "      <td>NaN</td>\n",
       "      <td>jnardino</td>\n",
       "      <td>NaN</td>\n",
       "      <td>0</td>\n",
       "      <td>@VirginAmerica it's really aggressive to blast...</td>\n",
       "      <td>NaN</td>\n",
       "      <td>2015-02-24 11:15:36 -0800</td>\n",
       "      <td>NaN</td>\n",
       "      <td>Pacific Time (US &amp; Canada)</td>\n",
       "    </tr>\n",
       "    <tr>\n",
       "      <th>4</th>\n",
       "      <td>570300817074462722</td>\n",
       "      <td>negative</td>\n",
       "      <td>1.0000</td>\n",
       "      <td>Can't Tell</td>\n",
       "      <td>1.0000</td>\n",
       "      <td>Virgin America</td>\n",
       "      <td>NaN</td>\n",
       "      <td>jnardino</td>\n",
       "      <td>NaN</td>\n",
       "      <td>0</td>\n",
       "      <td>@VirginAmerica and it's a really big bad thing...</td>\n",
       "      <td>NaN</td>\n",
       "      <td>2015-02-24 11:14:45 -0800</td>\n",
       "      <td>NaN</td>\n",
       "      <td>Pacific Time (US &amp; Canada)</td>\n",
       "    </tr>\n",
       "  </tbody>\n",
       "</table>\n",
       "</div>"
      ],
      "text/plain": [
       "             tweet_id airline_sentiment  airline_sentiment_confidence  \\\n",
       "0  570306133677760513           neutral                        1.0000   \n",
       "1  570301130888122368          positive                        0.3486   \n",
       "2  570301083672813571           neutral                        0.6837   \n",
       "3  570301031407624196          negative                        1.0000   \n",
       "4  570300817074462722          negative                        1.0000   \n",
       "\n",
       "  negativereason  negativereason_confidence         airline  \\\n",
       "0            NaN                        NaN  Virgin America   \n",
       "1            NaN                     0.0000  Virgin America   \n",
       "2            NaN                        NaN  Virgin America   \n",
       "3     Bad Flight                     0.7033  Virgin America   \n",
       "4     Can't Tell                     1.0000  Virgin America   \n",
       "\n",
       "  airline_sentiment_gold        name negativereason_gold  retweet_count  \\\n",
       "0                    NaN     cairdin                 NaN              0   \n",
       "1                    NaN    jnardino                 NaN              0   \n",
       "2                    NaN  yvonnalynn                 NaN              0   \n",
       "3                    NaN    jnardino                 NaN              0   \n",
       "4                    NaN    jnardino                 NaN              0   \n",
       "\n",
       "                                                text tweet_coord  \\\n",
       "0                @VirginAmerica What @dhepburn said.         NaN   \n",
       "1  @VirginAmerica plus you've added commercials t...         NaN   \n",
       "2  @VirginAmerica I didn't today... Must mean I n...         NaN   \n",
       "3  @VirginAmerica it's really aggressive to blast...         NaN   \n",
       "4  @VirginAmerica and it's a really big bad thing...         NaN   \n",
       "\n",
       "               tweet_created tweet_location               user_timezone  \n",
       "0  2015-02-24 11:35:52 -0800            NaN  Eastern Time (US & Canada)  \n",
       "1  2015-02-24 11:15:59 -0800            NaN  Pacific Time (US & Canada)  \n",
       "2  2015-02-24 11:15:48 -0800      Lets Play  Central Time (US & Canada)  \n",
       "3  2015-02-24 11:15:36 -0800            NaN  Pacific Time (US & Canada)  \n",
       "4  2015-02-24 11:14:45 -0800            NaN  Pacific Time (US & Canada)  "
      ]
     },
     "execution_count": 2,
     "metadata": {},
     "output_type": "execute_result"
    }
   ],
   "source": [
    "# Load the dataset\n",
    "data_df = pd.read_csv('Tweets.csv')\n",
    "data_df.head()"
   ]
  },
  {
   "cell_type": "code",
   "execution_count": 3,
   "metadata": {},
   "outputs": [
    {
     "name": "stdout",
     "output_type": "stream",
     "text": [
      "There are 14640 records and 15 variables.\n",
      "Number of duplicated records:  36\n"
     ]
    }
   ],
   "source": [
    "# Shape of the dataset\n",
    "print(\"There are {0} records and {1} variables.\".format(data_df.shape[0], data_df.shape[1]))\n",
    "    \n",
    "# Check for duplicated values\n",
    "print(\"Number of duplicated records: \", data_df.duplicated().sum())"
   ]
  },
  {
   "cell_type": "code",
   "execution_count": 4,
   "metadata": {},
   "outputs": [
    {
     "name": "stdout",
     "output_type": "stream",
     "text": [
      "<class 'pandas.core.frame.DataFrame'>\n",
      "RangeIndex: 14640 entries, 0 to 14639\n",
      "Data columns (total 15 columns):\n",
      " #   Column                        Non-Null Count  Dtype  \n",
      "---  ------                        --------------  -----  \n",
      " 0   tweet_id                      14640 non-null  int64  \n",
      " 1   airline_sentiment             14640 non-null  object \n",
      " 2   airline_sentiment_confidence  14640 non-null  float64\n",
      " 3   negativereason                9178 non-null   object \n",
      " 4   negativereason_confidence     10522 non-null  float64\n",
      " 5   airline                       14640 non-null  object \n",
      " 6   airline_sentiment_gold        40 non-null     object \n",
      " 7   name                          14640 non-null  object \n",
      " 8   negativereason_gold           32 non-null     object \n",
      " 9   retweet_count                 14640 non-null  int64  \n",
      " 10  text                          14640 non-null  object \n",
      " 11  tweet_coord                   1019 non-null   object \n",
      " 12  tweet_created                 14640 non-null  object \n",
      " 13  tweet_location                9907 non-null   object \n",
      " 14  user_timezone                 9820 non-null   object \n",
      "dtypes: float64(2), int64(2), object(11)\n",
      "memory usage: 1.7+ MB\n"
     ]
    }
   ],
   "source": [
    "# Examine type of the data\n",
    "data_df.info()"
   ]
  },
  {
   "cell_type": "code",
   "execution_count": 5,
   "metadata": {},
   "outputs": [
    {
     "name": "stdout",
     "output_type": "stream",
     "text": [
      "Shape of filtered data:  (14640, 2)\n"
     ]
    },
    {
     "data": {
      "text/html": [
       "<div>\n",
       "<style scoped>\n",
       "    .dataframe tbody tr th:only-of-type {\n",
       "        vertical-align: middle;\n",
       "    }\n",
       "\n",
       "    .dataframe tbody tr th {\n",
       "        vertical-align: top;\n",
       "    }\n",
       "\n",
       "    .dataframe thead th {\n",
       "        text-align: right;\n",
       "    }\n",
       "</style>\n",
       "<table border=\"1\" class=\"dataframe\">\n",
       "  <thead>\n",
       "    <tr style=\"text-align: right;\">\n",
       "      <th></th>\n",
       "      <th>airline_sentiment</th>\n",
       "      <th>text</th>\n",
       "    </tr>\n",
       "  </thead>\n",
       "  <tbody>\n",
       "    <tr>\n",
       "      <th>0</th>\n",
       "      <td>neutral</td>\n",
       "      <td>@VirginAmerica What @dhepburn said.</td>\n",
       "    </tr>\n",
       "    <tr>\n",
       "      <th>1</th>\n",
       "      <td>positive</td>\n",
       "      <td>@VirginAmerica plus you've added commercials t...</td>\n",
       "    </tr>\n",
       "    <tr>\n",
       "      <th>2</th>\n",
       "      <td>neutral</td>\n",
       "      <td>@VirginAmerica I didn't today... Must mean I n...</td>\n",
       "    </tr>\n",
       "    <tr>\n",
       "      <th>3</th>\n",
       "      <td>negative</td>\n",
       "      <td>@VirginAmerica it's really aggressive to blast...</td>\n",
       "    </tr>\n",
       "    <tr>\n",
       "      <th>4</th>\n",
       "      <td>negative</td>\n",
       "      <td>@VirginAmerica and it's a really big bad thing...</td>\n",
       "    </tr>\n",
       "  </tbody>\n",
       "</table>\n",
       "</div>"
      ],
      "text/plain": [
       "  airline_sentiment                                               text\n",
       "0           neutral                @VirginAmerica What @dhepburn said.\n",
       "1          positive  @VirginAmerica plus you've added commercials t...\n",
       "2           neutral  @VirginAmerica I didn't today... Must mean I n...\n",
       "3          negative  @VirginAmerica it's really aggressive to blast...\n",
       "4          negative  @VirginAmerica and it's a really big bad thing..."
      ]
     },
     "execution_count": 5,
     "metadata": {},
     "output_type": "execute_result"
    }
   ],
   "source": [
    "# Drop all other columns except “text” and “airline_sentiment”.\n",
    "cols_to_retain = set(['text', 'airline_sentiment'])\n",
    "sentiment_df = data_df.drop(columns=[col for col in data_df.columns.to_list() \n",
    "                                     if col not in cols_to_retain])\n",
    "\n",
    "# Print the shape of the filtered data\n",
    "print(\"Shape of filtered data: \", sentiment_df.shape)\n",
    "\n",
    "# Print first 5 rows\n",
    "sentiment_df.head(5)"
   ]
  },
  {
   "cell_type": "code",
   "execution_count": 6,
   "metadata": {},
   "outputs": [
    {
     "data": {
      "text/plain": [
       "airline_sentiment\n",
       "negative    9178\n",
       "neutral     3099\n",
       "positive    2363\n",
       "Name: airline_sentiment, dtype: int64"
      ]
     },
     "execution_count": 6,
     "metadata": {},
     "output_type": "execute_result"
    }
   ],
   "source": [
    "sentiment_df.groupby('airline_sentiment')['airline_sentiment'].count()"
   ]
  },
  {
   "cell_type": "markdown",
   "metadata": {},
   "source": [
    "#### Observations:\n",
    "- Given dataset has considerable number of data-columns, which could be used for reasoning post sentiment analysis or classification.\n",
    "- The two main columns of interest are: 'text' - the text of the tweet itself and 'airline_sentiment' - the corresponding sentiment associated with it.\n",
    "- There are three sentiments noted in this dataset, namely negative, neutral and positive.\n",
    "- Number of negative sentiments are significantly higher as compared to neutral and positive sentiments.\n",
    "- The dataset is skewed with considerably higher number of negative sentiments and this can affect the classification accuracy for neutral and positive reviews."
   ]
  },
  {
   "cell_type": "markdown",
   "metadata": {},
   "source": [
    "## Data Preprocessing<a class=\"anchor\" id='2'></a>"
   ]
  },
  {
   "cell_type": "code",
   "execution_count": 7,
   "metadata": {},
   "outputs": [
    {
     "name": "stdout",
     "output_type": "stream",
     "text": [
      "Dropping 188 duplicates.\n",
      "Shape of updated data:  (14452, 2)\n"
     ]
    }
   ],
   "source": [
    "# Check for duplicates\n",
    "print(\"Dropping {0} duplicates.\".format(sentiment_df.duplicated().sum()))\n",
    "sentiment_df.drop_duplicates(inplace=True)\n",
    "print(\"Shape of updated data: \", sentiment_df.shape)"
   ]
  },
  {
   "cell_type": "code",
   "execution_count": 8,
   "metadata": {},
   "outputs": [
    {
     "name": "stdout",
     "output_type": "stream",
     "text": [
      "Original Review: @VirginAmerica What @dhepburn said.\n",
      "Cleaned review:  virginamerica dhepburn say\n",
      "\n",
      "Original Review: @VirginAmerica plus you've added commercials to the experience... tacky.\n",
      "Cleaned review:  virginamerica plus add commercial experience tacky\n",
      "\n",
      "Original Review: @VirginAmerica I didn't today... Must mean I need to take another trip!\n",
      "Cleaned review:  virginamerica today must mean need take another trip\n",
      "\n",
      "Original Review: @VirginAmerica it's really aggressive to blast obnoxious \"entertainment\" in your guests' faces &amp; they have little recourse\n",
      "Cleaned review:  virginamerica really aggressive blast obnoxious entertainment guest face little recourse\n",
      "\n",
      "Original Review: @VirginAmerica and it's a really big bad thing about it\n",
      "Cleaned review:  virginamerica really big bad thing\n",
      "\n",
      "Original Review: @VirginAmerica seriously would pay $30 a flight for seats that didn't have this playing.\n",
      "it's really the only bad thing about flying VA\n",
      "Cleaned review:  virginamerica seriously would pay flight seat play really bad thing fly va\n",
      "\n",
      "\n",
      "....\n",
      "....\n",
      "\n",
      "Original Review: @VirginAmerica trying to add my boy Prince to my ressie. SF this Thursday @VirginAmerica from LAX http://t.co/GsB2J3c4gM\n",
      "Cleaned review:  virginamerica try add boy prince ressie sf thursday virginamerica lax\n",
      "\n",
      "Original Review: @VirginAmerica why must a traveler miss a flight to Late Flight check a bag?  I missed my morning appointments and you lost my business. #sfo2lax\n",
      "Cleaned review:  virginamerica must traveler miss flight late flight check bag miss morning appointment lose business sfo lax\n",
      "\n",
      "Original Review: @VirginAmerica check out new music http://t.co/maRcnOCWzn\n",
      "Cleaned review:  virginamerica check new music\n",
      "\n",
      "Original Review: @virginamerica how's a direct flight FLL-&gt;SFO have unexpected layover in Vegas 4 fuel yet peeps next to me bought for Vegas flight. #sneaky\n",
      "Cleaned review:  virginamerica direct flight fll sfo unexpected layover vegas fuel yet peep next buy vegas flight sneaky\n",
      "\n",
      "Original Review: @VirginAmerica your no Late Flight bag check just lost you my business. I missed flight and AM apt. Three other people on flight had same exp.\n",
      "Cleaned review:  virginamerica late flight bag check lose business miss flight apt three people flight exp\n",
      "\n",
      "Original Review: @VirginAmerica - amazing customer  service, again! 💕💕 RaeAnn in SF - she's the best! #customerservice #virginamerica #flying\n",
      "Cleaned review:  virginamerica amazing customer service raeann sf good customerservice virginamerica fly\n",
      "\n"
     ]
    }
   ],
   "source": [
    "# Define set of stop words\n",
    "stop_words = set(stopwords.words(\"english\"))\n",
    "\n",
    "# Load spacy for lemmatization\n",
    "sp = spacy.load('en_core_web_sm', parse=True, tag=True, entity=True)\n",
    "\n",
    "def clean_review(raw_review):    \n",
    "    '''Method to clean raw review - \n",
    "    - HTML tag removal,\n",
    "    - Numerics removal\n",
    "    - Removal of special chars and punctuations\n",
    "    - Tokenization,\n",
    "    - Conversion to lower case\n",
    "    - Lemmatize or stemming\n",
    "    - Join clean words\n",
    "    \n",
    "    raw_review: Raw text of the review as string\n",
    "    '''\n",
    "    # Remove HTML tags\n",
    "    review_text = BeautifulSoup(raw_review).get_text()    \n",
    "    \n",
    "    # Remove accented characters\n",
    "    review_text = unicodedata.normalize('NFKD', review_text).encode('ascii', \n",
    "                                            'ignore').decode('utf-8', 'ignore')\n",
    "    \n",
    "    # Remove URLs\n",
    "    review_text = re.sub(r'(https|http)?:\\/\\/(\\w|\\.|\\/|\\?|\\=|\\&|\\%)*\\b', ' ', \n",
    "                         review_text, flags=re.MULTILINE)\n",
    "    \n",
    "    # Remove non-letters - numbers, special characters and punctuations.\n",
    "    review_text = re.sub(\"[^a-zA-Z]\", \" \", review_text) \n",
    "    \n",
    "    # Tokenize\n",
    "    words = [word.lower() for word in ToktokTokenizer().tokenize(review_text)]\n",
    "    \n",
    "    # Remove stop words\n",
    "    meaningful_words = [word for word in words if not word in stop_words]\n",
    "    meaningful_words = \" \".join(meaningful_words)\n",
    "    \n",
    "    # Lemmatize the text\n",
    "    sentence = sp(meaningful_words)\n",
    "    lemmatized_words = ' '.join([word.lemma_ if word.lemma_ != '-PRON-' else word.text \n",
    "                                     for word in sentence])\n",
    "        \n",
    "    # return lemmatized text\n",
    "    return lemmatized_words\n",
    "\n",
    "\n",
    "# Let's print first five sample reviews and the processed results\n",
    "for idx in range(0, 6):\n",
    "    original_review = sentiment_df['text'][idx]\n",
    "    cleaned_review = clean_review(original_review)\n",
    "    print(\"Original Review:\", original_review)\n",
    "    print(\"Cleaned review: \", cleaned_review)\n",
    "    print()\n",
    "\n",
    "print()\n",
    "print('....')\n",
    "print('....')\n",
    "print()\n",
    "\n",
    "# Let's print some more\n",
    "for idx in range(100, 106):\n",
    "    original_review = sentiment_df['text'][idx]\n",
    "    cleaned_review = clean_review(original_review)\n",
    "    print(\"Original Review:\", original_review)\n",
    "    print(\"Cleaned review: \", cleaned_review)\n",
    "    print()"
   ]
  },
  {
   "cell_type": "code",
   "execution_count": 9,
   "metadata": {},
   "outputs": [
    {
     "data": {
      "text/html": [
       "<div>\n",
       "<style scoped>\n",
       "    .dataframe tbody tr th:only-of-type {\n",
       "        vertical-align: middle;\n",
       "    }\n",
       "\n",
       "    .dataframe tbody tr th {\n",
       "        vertical-align: top;\n",
       "    }\n",
       "\n",
       "    .dataframe thead th {\n",
       "        text-align: right;\n",
       "    }\n",
       "</style>\n",
       "<table border=\"1\" class=\"dataframe\">\n",
       "  <thead>\n",
       "    <tr style=\"text-align: right;\">\n",
       "      <th></th>\n",
       "      <th>clean_text</th>\n",
       "      <th>negative</th>\n",
       "      <th>neutral</th>\n",
       "      <th>positive</th>\n",
       "    </tr>\n",
       "  </thead>\n",
       "  <tbody>\n",
       "    <tr>\n",
       "      <th>0</th>\n",
       "      <td>virginamerica dhepburn say</td>\n",
       "      <td>0</td>\n",
       "      <td>1</td>\n",
       "      <td>0</td>\n",
       "    </tr>\n",
       "    <tr>\n",
       "      <th>1</th>\n",
       "      <td>virginamerica plus add commercial experience t...</td>\n",
       "      <td>0</td>\n",
       "      <td>0</td>\n",
       "      <td>1</td>\n",
       "    </tr>\n",
       "    <tr>\n",
       "      <th>2</th>\n",
       "      <td>virginamerica today must mean need take anothe...</td>\n",
       "      <td>0</td>\n",
       "      <td>1</td>\n",
       "      <td>0</td>\n",
       "    </tr>\n",
       "    <tr>\n",
       "      <th>3</th>\n",
       "      <td>virginamerica really aggressive blast obnoxiou...</td>\n",
       "      <td>1</td>\n",
       "      <td>0</td>\n",
       "      <td>0</td>\n",
       "    </tr>\n",
       "    <tr>\n",
       "      <th>4</th>\n",
       "      <td>virginamerica really big bad thing</td>\n",
       "      <td>1</td>\n",
       "      <td>0</td>\n",
       "      <td>0</td>\n",
       "    </tr>\n",
       "    <tr>\n",
       "      <th>...</th>\n",
       "      <td>...</td>\n",
       "      <td>...</td>\n",
       "      <td>...</td>\n",
       "      <td>...</td>\n",
       "    </tr>\n",
       "    <tr>\n",
       "      <th>14635</th>\n",
       "      <td>americanair thank get different flight chicago</td>\n",
       "      <td>0</td>\n",
       "      <td>0</td>\n",
       "      <td>1</td>\n",
       "    </tr>\n",
       "    <tr>\n",
       "      <th>14636</th>\n",
       "      <td>americanair leaving minute late flight warning...</td>\n",
       "      <td>1</td>\n",
       "      <td>0</td>\n",
       "      <td>0</td>\n",
       "    </tr>\n",
       "    <tr>\n",
       "      <th>14637</th>\n",
       "      <td>americanair please bring american airlines bla...</td>\n",
       "      <td>0</td>\n",
       "      <td>1</td>\n",
       "      <td>0</td>\n",
       "    </tr>\n",
       "    <tr>\n",
       "      <th>14638</th>\n",
       "      <td>americanair money change flight answer phone s...</td>\n",
       "      <td>1</td>\n",
       "      <td>0</td>\n",
       "      <td>0</td>\n",
       "    </tr>\n",
       "    <tr>\n",
       "      <th>14639</th>\n",
       "      <td>americanair ppl nee know many seat next flight...</td>\n",
       "      <td>0</td>\n",
       "      <td>1</td>\n",
       "      <td>0</td>\n",
       "    </tr>\n",
       "  </tbody>\n",
       "</table>\n",
       "<p>14452 rows × 4 columns</p>\n",
       "</div>"
      ],
      "text/plain": [
       "                                              clean_text  negative  neutral  \\\n",
       "0                             virginamerica dhepburn say         0        1   \n",
       "1      virginamerica plus add commercial experience t...         0        0   \n",
       "2      virginamerica today must mean need take anothe...         0        1   \n",
       "3      virginamerica really aggressive blast obnoxiou...         1        0   \n",
       "4                     virginamerica really big bad thing         1        0   \n",
       "...                                                  ...       ...      ...   \n",
       "14635     americanair thank get different flight chicago         0        0   \n",
       "14636  americanair leaving minute late flight warning...         1        0   \n",
       "14637  americanair please bring american airlines bla...         0        1   \n",
       "14638  americanair money change flight answer phone s...         1        0   \n",
       "14639  americanair ppl nee know many seat next flight...         0        1   \n",
       "\n",
       "       positive  \n",
       "0             0  \n",
       "1             1  \n",
       "2             0  \n",
       "3             0  \n",
       "4             0  \n",
       "...         ...  \n",
       "14635         1  \n",
       "14636         0  \n",
       "14637         0  \n",
       "14638         0  \n",
       "14639         0  \n",
       "\n",
       "[14452 rows x 4 columns]"
      ]
     },
     "execution_count": 9,
     "metadata": {},
     "output_type": "execute_result"
    }
   ],
   "source": [
    "# Update the reviews in the sentiment data frame\n",
    "original_reviews = sentiment_df['text'].to_list()\n",
    "cleaned_reviews = [clean_review(review) for review in original_reviews]\n",
    "sentiment_df['clean_text'] = cleaned_reviews\n",
    "\n",
    "# Drop original text data and update sentiments to numeric values\n",
    "data_df = sentiment_df.drop(columns=['text'])\n",
    "data_df = pd.get_dummies(data_df, columns=['airline_sentiment'], prefix='', prefix_sep='')\n",
    "\n",
    "# Display data\n",
    "data_df"
   ]
  },
  {
   "cell_type": "markdown",
   "metadata": {},
   "source": [
    "### Utility methods for creating neural net based classification model and assessing its performance\n"
   ]
  },
  {
   "cell_type": "code",
   "execution_count": 10,
   "metadata": {},
   "outputs": [],
   "source": [
    "def get_classifier(input_shape, lr=1e-3):\n",
    "    '''Method to build a simple classifier based on TF sequential model\n",
    "    input_shape: shape of the input layer\n",
    "    lr: learning rate\n",
    "    '''   \n",
    "    # Create sequential model\n",
    "    model = Sequential() \n",
    "    model.add(InputLayer(input_shape=input_shape))\n",
    "    model.add(Dense(64, activation='relu'))\n",
    "    model.add(BatchNormalization())\n",
    "    model.add(Dense(32, activation='relu'))\n",
    "    model.add(BatchNormalization())\n",
    "    model.add(Dense(16, activation='relu'))\n",
    "    model.add(BatchNormalization())    \n",
    "    model.add(Dense(3, activation='softmax'))\n",
    "\n",
    "    # Create optimizer instance \n",
    "    opt = optimizers.Adam(lr=lr)\n",
    "\n",
    "    # Configure the model with categorical cross entropy loss, the optimizer, and accuracy as the metrics\n",
    "    model.compile(loss='categorical_crossentropy', optimizer=opt, metrics=['accuracy'])\n",
    "    return model\n",
    "\n",
    "def plot_train_hist_loss(train_hist):\n",
    "    '''Method to plot train loss and validation loss. Mainly to check for overfitting.\n",
    "    train_hist: training history\n",
    "    '''\n",
    "    train_hist_df = pd.DataFrame(train_hist.history)\n",
    "    plt.figure(figsize=(10, 7))\n",
    "    plt.plot(train_hist_df['loss'])\n",
    "    plt.plot(train_hist_df['val_loss'])\n",
    "    plt.legend((\"train loss\" , \"validation loss\"), loc=0)\n",
    "    \n",
    "def get_model_perf(model, x_train, y_train, x_test, y_test, batch_size=5):\n",
    "    '''Method to get performance of the model. Assumes model is fitted\n",
    "    '''\n",
    "    y_pred = model.predict(x_test)\n",
    "    \n",
    "    perf_dict = {}\n",
    "    # Get train accuracy\n",
    "    results = model.evaluate(x_train, y_train, batch_size=batch_size, verbose=False)\n",
    "    perf_dict['Train accuracy'] = round(results[1] * 100,3)\n",
    "    \n",
    "    # Get test accuracy\n",
    "    results = model.evaluate(x_test, y_test, batch_size=batch_size, verbose=False)\n",
    "    perf_dict['Test accuracy'] = round(results[1] * 100,3)\n",
    "\n",
    "    # Let's look at the precision and recall for the model.\n",
    "    recall, precision = Recall(), Precision()\n",
    "    recall.update_state(y_test, y_pred)\n",
    "    precision.update_state(y_test, y_pred)\n",
    "    perf_dict['Recall Score'] = round(recall.result().numpy(), 3)\n",
    "    perf_dict['Precision Score'] = round(precision.result().numpy(), 3)  \n",
    "    \n",
    "    return perf_dict\n",
    "\n",
    "def plot_confusion_matrix(model, x_test, y_test, labels, title):\n",
    "    '''Method to plot the confusion matrix. Assumes the model is fitted'''\n",
    "    y_pred = model.predict(x_test)\n",
    "    \n",
    "    # Get model predictions\n",
    "    y_test_labels = []\n",
    "    y_pred_labels = []\n",
    "    for t, p in zip(y_test, y_pred):\n",
    "        y_test_labels.append(np.argmax(t))\n",
    "        y_pred_labels.append(np.argmax(p))\n",
    "\n",
    "    # Compute the confusion matrix\n",
    "    cm = tf.math.confusion_matrix(y_test_labels, y_pred_labels)\n",
    "    cm = np.asarray(cm)\n",
    "\n",
    "    # Plot the matrix\n",
    "    plt.figure(figsize=(12,7))\n",
    "    cm_df = pd.DataFrame(cm, index=labels, columns=labels)\n",
    "    sns.heatmap(cm_df, annot=True, linewidths=0.3, annot_kws={\"fontsize\":15}, fmt='g')\n",
    "    plt.title(title)\n",
    "    plt.xlabel(\"Predicted\")\n",
    "    plt.ylabel(\"Truth\")\n",
    "    plt.show()"
   ]
  },
  {
   "cell_type": "markdown",
   "metadata": {},
   "source": [
    "## Sentiment Classification Using Count Vectorizer <a class=\"anchor\" id='3'></a>"
   ]
  },
  {
   "cell_type": "code",
   "execution_count": 11,
   "metadata": {},
   "outputs": [
    {
     "name": "stdout",
     "output_type": "stream",
     "text": [
      "There are 14452 reviews with 10000 features\n"
     ]
    }
   ],
   "source": [
    "# Vectorize cleaned reviews with CountVectorizer\n",
    "vectorizer = CountVectorizer(analyzer = \"word\", tokenizer = None, preprocessor = None, \n",
    "                            stop_words = None, max_features=10000) \n",
    "\n",
    "train_data_features = vectorizer.fit_transform(cleaned_reviews)\n",
    "train_data_features = train_data_features.toarray()\n",
    "print('There are {0} reviews with {1} features'.format(train_data_features.shape[0], train_data_features.shape[1]))"
   ]
  },
  {
   "cell_type": "code",
   "execution_count": 12,
   "metadata": {},
   "outputs": [
    {
     "name": "stdout",
     "output_type": "stream",
     "text": [
      "('flight', 4631)\n",
      "('united', 4113)\n",
      "('americanair', 2818)\n",
      "('southwestair', 2451)\n",
      "('jetblue', 2385)\n",
      "('usairway', 2378)\n",
      "('get', 2097)\n",
      "('thank', 1487)\n",
      "('hour', 1148)\n",
      "('cancel', 1045)\n"
     ]
    }
   ],
   "source": [
    "# Get the vocabulary\n",
    "vocab = vectorizer.get_feature_names()\n",
    "\n",
    "# Sum up the counts of each word\n",
    "freq = np.sum(train_data_features, axis=0)\n",
    "\n",
    "vocab_freq = [(x,y) for x, y in zip(vocab, freq)]\n",
    "vacab_freq_sorted = sorted(vocab_freq, key=lambda x: x[1], reverse=True)\n",
    "\n",
    "# Display top 10 vocab words by their frequency of occurence\n",
    "print(*vacab_freq_sorted[0:10], sep='\\n')"
   ]
  },
  {
   "cell_type": "code",
   "execution_count": 13,
   "metadata": {},
   "outputs": [
    {
     "name": "stdout",
     "output_type": "stream",
     "text": [
      "Sentiment labels:  ['negative', 'neutral', 'positive']\n",
      "\n",
      "Train data:\n",
      "X Train Shape: (11561, 10000)\n",
      "Y Train Shape: (11561, 3)\n",
      "\n",
      "Test Data:\n",
      "X Test Shape: (2891, 10000)\n",
      "Y Test Shape: (2891, 3)\n"
     ]
    }
   ],
   "source": [
    "# Prepare data for training\n",
    "X = train_data_features\n",
    "Y = data_df.iloc[:,1:]\n",
    "labels = data_df.columns.to_list()[1:]\n",
    "Y = np.array(Y)\n",
    "\n",
    "# Normalize/scale the data\n",
    "scaler = RobustScaler()\n",
    "X = scaler.fit_transform(X)\n",
    "\n",
    "# Train test split\n",
    "x_train, x_test, y_train, y_test = train_test_split(X, Y, test_size=0.20, random_state=SEED, stratify=Y)\n",
    "\n",
    "# Print distributions\n",
    "print('Sentiment labels: ', labels)\n",
    "print()\n",
    "print('Train data:')\n",
    "print('X Train Shape:', x_train.shape)\n",
    "print('Y Train Shape:', y_train.shape)\n",
    "print()\n",
    "print('Test Data:')\n",
    "print('X Test Shape:', x_test.shape)\n",
    "print('Y Test Shape:', y_test.shape)"
   ]
  },
  {
   "cell_type": "markdown",
   "metadata": {},
   "source": [
    "### Classification with Random Forrest Classifier and Count Vectorizer"
   ]
  },
  {
   "cell_type": "code",
   "execution_count": 14,
   "metadata": {},
   "outputs": [
    {
     "name": "stdout",
     "output_type": "stream",
     "text": [
      "Classifier:  RandomForestClassifier(n_jobs=-1)\n",
      "Random Forrest Classification Accuracy with CountVectorizer:  68.537\n"
     ]
    }
   ],
   "source": [
    "# Initialize a Random Forest classifier with 100 trees\n",
    "classifier = RandomForestClassifier(n_jobs=-1, n_estimators=100, verbose=0) \n",
    "print('Classifier: ', classifier)\n",
    "\n",
    "# Random forest performance through cross vaidation\n",
    "result = np.mean(cross_val_score(classifier, X, Y, cv=10))\n",
    "print('Random Forrest Classification Accuracy with CountVectorizer: ', round(result*100.0,3))"
   ]
  },
  {
   "cell_type": "markdown",
   "metadata": {},
   "source": [
    "### Classification with Neural Network and Count Vectorizer"
   ]
  },
  {
   "cell_type": "code",
   "execution_count": 15,
   "metadata": {},
   "outputs": [
    {
     "name": "stdout",
     "output_type": "stream",
     "text": [
      "Model: \"sequential\"\n",
      "_________________________________________________________________\n",
      "Layer (type)                 Output Shape              Param #   \n",
      "=================================================================\n",
      "dense (Dense)                (None, 64)                640064    \n",
      "_________________________________________________________________\n",
      "batch_normalization (BatchNo (None, 64)                256       \n",
      "_________________________________________________________________\n",
      "dense_1 (Dense)              (None, 32)                2080      \n",
      "_________________________________________________________________\n",
      "batch_normalization_1 (Batch (None, 32)                128       \n",
      "_________________________________________________________________\n",
      "dense_2 (Dense)              (None, 16)                528       \n",
      "_________________________________________________________________\n",
      "batch_normalization_2 (Batch (None, 16)                64        \n",
      "_________________________________________________________________\n",
      "dense_3 (Dense)              (None, 3)                 51        \n",
      "=================================================================\n",
      "Total params: 643,171\n",
      "Trainable params: 642,947\n",
      "Non-trainable params: 224\n",
      "_________________________________________________________________\n"
     ]
    }
   ],
   "source": [
    "# Get classifier instance and print model summary\n",
    "classifier = get_classifier(input_shape=(10000,), lr=1e-5)\n",
    "classifier.summary()"
   ]
  },
  {
   "cell_type": "code",
   "execution_count": 16,
   "metadata": {},
   "outputs": [
    {
     "name": "stdout",
     "output_type": "stream",
     "text": [
      "Train on 9248 samples, validate on 2313 samples\n",
      "Epoch 1/50\n",
      "9248/9248 [==============================] - 63s 7ms/sample - loss: 1.3661 - accuracy: 0.3715 - val_loss: 1.5986 - val_accuracy: 0.3610\n",
      "Epoch 2/50\n",
      "9248/9248 [==============================] - 5s 525us/sample - loss: 1.2773 - accuracy: 0.3915 - val_loss: 1.4718 - val_accuracy: 0.3960\n",
      "Epoch 3/50\n",
      "9248/9248 [==============================] - 5s 525us/sample - loss: 1.1914 - accuracy: 0.4343 - val_loss: 1.3974 - val_accuracy: 0.4168\n",
      "Epoch 4/50\n",
      "9248/9248 [==============================] - 5s 529us/sample - loss: 1.1183 - accuracy: 0.4650 - val_loss: 1.3315 - val_accuracy: 0.4401\n",
      "Epoch 5/50\n",
      "9248/9248 [==============================] - 5s 521us/sample - loss: 1.0553 - accuracy: 0.5032 - val_loss: 1.2646 - val_accuracy: 0.4643\n",
      "Epoch 6/50\n",
      "9248/9248 [==============================] - 5s 528us/sample - loss: 1.0158 - accuracy: 0.5221 - val_loss: 1.2067 - val_accuracy: 0.4829\n",
      "Epoch 7/50\n",
      "9248/9248 [==============================] - 5s 526us/sample - loss: 0.9826 - accuracy: 0.5490 - val_loss: 1.1357 - val_accuracy: 0.5080\n",
      "Epoch 8/50\n",
      "9248/9248 [==============================] - 5s 524us/sample - loss: 0.9351 - accuracy: 0.5775 - val_loss: 1.0763 - val_accuracy: 0.5309\n",
      "Epoch 9/50\n",
      "9248/9248 [==============================] - 5s 528us/sample - loss: 0.9082 - accuracy: 0.5887 - val_loss: 1.0668 - val_accuracy: 0.5387\n",
      "Epoch 10/50\n",
      "9248/9248 [==============================] - 5s 532us/sample - loss: 0.8873 - accuracy: 0.6058 - val_loss: 0.9927 - val_accuracy: 0.5698\n",
      "Epoch 11/50\n",
      "9248/9248 [==============================] - 5s 526us/sample - loss: 0.8612 - accuracy: 0.6198 - val_loss: 0.9826 - val_accuracy: 0.5750\n",
      "Epoch 12/50\n",
      "9248/9248 [==============================] - 5s 527us/sample - loss: 0.8360 - accuracy: 0.6342 - val_loss: 0.9613 - val_accuracy: 0.5863\n",
      "Epoch 13/50\n",
      "9248/9248 [==============================] - 5s 525us/sample - loss: 0.8269 - accuracy: 0.6410 - val_loss: 0.9395 - val_accuracy: 0.5958\n",
      "Epoch 14/50\n",
      "9248/9248 [==============================] - 5s 522us/sample - loss: 0.8137 - accuracy: 0.6487 - val_loss: 0.9065 - val_accuracy: 0.6148\n",
      "Epoch 15/50\n",
      "9248/9248 [==============================] - 5s 525us/sample - loss: 0.7972 - accuracy: 0.6595 - val_loss: 0.9024 - val_accuracy: 0.6178\n",
      "Epoch 16/50\n",
      "9248/9248 [==============================] - 5s 532us/sample - loss: 0.7649 - accuracy: 0.6816 - val_loss: 0.8802 - val_accuracy: 0.6252\n",
      "Epoch 17/50\n",
      "9248/9248 [==============================] - 5s 527us/sample - loss: 0.7642 - accuracy: 0.6739 - val_loss: 0.8642 - val_accuracy: 0.6321\n",
      "Epoch 18/50\n",
      "9248/9248 [==============================] - 5s 532us/sample - loss: 0.7401 - accuracy: 0.6894 - val_loss: 0.8445 - val_accuracy: 0.6476\n",
      "Epoch 19/50\n",
      "9248/9248 [==============================] - 5s 531us/sample - loss: 0.7314 - accuracy: 0.6951 - val_loss: 0.8307 - val_accuracy: 0.6554\n",
      "Epoch 20/50\n",
      "9248/9248 [==============================] - 5s 529us/sample - loss: 0.7188 - accuracy: 0.7047 - val_loss: 0.8077 - val_accuracy: 0.6649\n",
      "Epoch 21/50\n",
      "9248/9248 [==============================] - 5s 525us/sample - loss: 0.6958 - accuracy: 0.7095 - val_loss: 0.8053 - val_accuracy: 0.6636\n",
      "Epoch 22/50\n",
      "9248/9248 [==============================] - 5s 526us/sample - loss: 0.6880 - accuracy: 0.7166 - val_loss: 0.8165 - val_accuracy: 0.6546\n",
      "Epoch 23/50\n",
      "9248/9248 [==============================] - 5s 529us/sample - loss: 0.6812 - accuracy: 0.7243 - val_loss: 0.7844 - val_accuracy: 0.6762\n",
      "Epoch 24/50\n",
      "9248/9248 [==============================] - 5s 525us/sample - loss: 0.6638 - accuracy: 0.7282 - val_loss: 0.7820 - val_accuracy: 0.6792\n",
      "Epoch 25/50\n",
      "9248/9248 [==============================] - 5s 525us/sample - loss: 0.6558 - accuracy: 0.7310 - val_loss: 0.7840 - val_accuracy: 0.6814\n",
      "Epoch 26/50\n",
      "9248/9248 [==============================] - 5s 530us/sample - loss: 0.6455 - accuracy: 0.7352 - val_loss: 0.7778 - val_accuracy: 0.6840\n",
      "Epoch 27/50\n",
      "9248/9248 [==============================] - 5s 525us/sample - loss: 0.6468 - accuracy: 0.7315 - val_loss: 0.7704 - val_accuracy: 0.6879\n",
      "Epoch 28/50\n",
      "9248/9248 [==============================] - 5s 523us/sample - loss: 0.6276 - accuracy: 0.7462 - val_loss: 0.7496 - val_accuracy: 0.6987\n",
      "Epoch 29/50\n",
      "9248/9248 [==============================] - 5s 536us/sample - loss: 0.6250 - accuracy: 0.7488 - val_loss: 0.7655 - val_accuracy: 0.6883\n",
      "Epoch 30/50\n",
      "9248/9248 [==============================] - 5s 529us/sample - loss: 0.6261 - accuracy: 0.7468 - val_loss: 0.7365 - val_accuracy: 0.7051\n",
      "Epoch 31/50\n",
      "9248/9248 [==============================] - 5s 525us/sample - loss: 0.6050 - accuracy: 0.7556 - val_loss: 0.7442 - val_accuracy: 0.6974\n",
      "Epoch 32/50\n",
      "9248/9248 [==============================] - 5s 525us/sample - loss: 0.6035 - accuracy: 0.7596 - val_loss: 0.7427 - val_accuracy: 0.6974\n",
      "Epoch 33/50\n",
      "9248/9248 [==============================] - 5s 532us/sample - loss: 0.5919 - accuracy: 0.7596 - val_loss: 0.7287 - val_accuracy: 0.7026\n",
      "Epoch 34/50\n",
      "9248/9248 [==============================] - 5s 527us/sample - loss: 0.5812 - accuracy: 0.7689 - val_loss: 0.7448 - val_accuracy: 0.6969\n",
      "Epoch 35/50\n",
      "9248/9248 [==============================] - 5s 529us/sample - loss: 0.5811 - accuracy: 0.7673 - val_loss: 0.7379 - val_accuracy: 0.7008\n",
      "Epoch 36/50\n",
      "9248/9248 [==============================] - 5s 532us/sample - loss: 0.5796 - accuracy: 0.7657 - val_loss: 0.7454 - val_accuracy: 0.7008\n",
      "Epoch 37/50\n",
      "9248/9248 [==============================] - 5s 524us/sample - loss: 0.5483 - accuracy: 0.7823 - val_loss: 0.7448 - val_accuracy: 0.7008\n",
      "Epoch 38/50\n",
      "9248/9248 [==============================] - 5s 525us/sample - loss: 0.5460 - accuracy: 0.7818 - val_loss: 0.7399 - val_accuracy: 0.7013\n",
      "Epoch 39/50\n",
      "9248/9248 [==============================] - 5s 531us/sample - loss: 0.5443 - accuracy: 0.7881 - val_loss: 0.7547 - val_accuracy: 0.6969\n",
      "Epoch 40/50\n",
      "9248/9248 [==============================] - 5s 528us/sample - loss: 0.5521 - accuracy: 0.7784 - val_loss: 0.7468 - val_accuracy: 0.7026\n",
      "Epoch 41/50\n",
      "9248/9248 [==============================] - 5s 520us/sample - loss: 0.5380 - accuracy: 0.7869 - val_loss: 0.7530 - val_accuracy: 0.7008\n",
      "Epoch 42/50\n",
      "9248/9248 [==============================] - 5s 521us/sample - loss: 0.5161 - accuracy: 0.7977 - val_loss: 0.7328 - val_accuracy: 0.7077\n",
      "Epoch 43/50\n",
      "9248/9248 [==============================] - 5s 526us/sample - loss: 0.5224 - accuracy: 0.7984 - val_loss: 0.7378 - val_accuracy: 0.7086\n",
      "Epoch 44/50\n",
      "9248/9248 [==============================] - 5s 522us/sample - loss: 0.5119 - accuracy: 0.7995 - val_loss: 0.7417 - val_accuracy: 0.7069\n",
      "Epoch 45/50\n",
      "9248/9248 [==============================] - 5s 528us/sample - loss: 0.5015 - accuracy: 0.8048 - val_loss: 0.7449 - val_accuracy: 0.7056\n",
      "Epoch 46/50\n",
      "9248/9248 [==============================] - 5s 520us/sample - loss: 0.5069 - accuracy: 0.8075 - val_loss: 0.7460 - val_accuracy: 0.7013\n",
      "Epoch 47/50\n",
      "9248/9248 [==============================] - 5s 521us/sample - loss: 0.4908 - accuracy: 0.8090 - val_loss: 0.7525 - val_accuracy: 0.7047\n",
      "Epoch 48/50\n",
      "9248/9248 [==============================] - 5s 520us/sample - loss: 0.4936 - accuracy: 0.8100 - val_loss: 0.7602 - val_accuracy: 0.7121\n",
      "Epoch 49/50\n",
      "9248/9248 [==============================] - 5s 525us/sample - loss: 0.4846 - accuracy: 0.8126 - val_loss: 0.7369 - val_accuracy: 0.7181\n",
      "Epoch 50/50\n",
      "9248/9248 [==============================] - 5s 524us/sample - loss: 0.4806 - accuracy: 0.8202 - val_loss: 0.7524 - val_accuracy: 0.7121\n"
     ]
    }
   ],
   "source": [
    "# Train the model.\n",
    "train_hist = None\n",
    "\n",
    "# Hyperparameters for training\n",
    "epochs = 50\n",
    "batch_size = 4\n",
    "val_split = 0.2\n",
    "verbose = True\n",
    "\n",
    "# Note: The model is being trained on physical GPU instance. If no physical GPU is present then,\n",
    "# comment out below line to train the model on CPU.\n",
    "with tf.device('/device:GPU:0'):    \n",
    "    train_hist = classifier.fit(x_train, y_train, epochs=epochs, validation_split=val_split, \n",
    "                                batch_size=batch_size, verbose=verbose)"
   ]
  },
  {
   "cell_type": "code",
   "execution_count": 17,
   "metadata": {},
   "outputs": [
    {
     "data": {
      "image/png": "[encoded data removed]",
      "text/plain": [
       "<Figure size 720x504 with 1 Axes>"
      ]
     },
     "metadata": {},
     "output_type": "display_data"
    }
   ],
   "source": [
    "# Let's plot the losses from training history to check if there was overfitting. \n",
    "# Continuous decrease in train loss but increase in validation loss would indicate overfitting.\n",
    "plot_train_hist_loss(train_hist)"
   ]
  },
  {
   "cell_type": "code",
   "execution_count": 18,
   "metadata": {},
   "outputs": [
    {
     "data": {
      "text/html": [
       "<div>\n",
       "<style scoped>\n",
       "    .dataframe tbody tr th:only-of-type {\n",
       "        vertical-align: middle;\n",
       "    }\n",
       "\n",
       "    .dataframe tbody tr th {\n",
       "        vertical-align: top;\n",
       "    }\n",
       "\n",
       "    .dataframe thead th {\n",
       "        text-align: right;\n",
       "    }\n",
       "</style>\n",
       "<table border=\"1\" class=\"dataframe\">\n",
       "  <thead>\n",
       "    <tr style=\"text-align: right;\">\n",
       "      <th></th>\n",
       "      <th>Performance with Neural Network and CountVectorizer</th>\n",
       "    </tr>\n",
       "  </thead>\n",
       "  <tbody>\n",
       "    <tr>\n",
       "      <th>Train accuracy</th>\n",
       "      <td>87.371</td>\n",
       "    </tr>\n",
       "    <tr>\n",
       "      <th>Test accuracy</th>\n",
       "      <td>71.152</td>\n",
       "    </tr>\n",
       "    <tr>\n",
       "      <th>Recall Score</th>\n",
       "      <td>0.688</td>\n",
       "    </tr>\n",
       "    <tr>\n",
       "      <th>Precision Score</th>\n",
       "      <td>0.731</td>\n",
       "    </tr>\n",
       "  </tbody>\n",
       "</table>\n",
       "</div>"
      ],
      "text/plain": [
       "                 Performance with Neural Network and CountVectorizer\n",
       "Train accuracy                                              87.371  \n",
       "Test accuracy                                               71.152  \n",
       "Recall Score                                                 0.688  \n",
       "Precision Score                                              0.731  "
      ]
     },
     "execution_count": 18,
     "metadata": {},
     "output_type": "execute_result"
    }
   ],
   "source": [
    "# Let's look at the classifier performance\n",
    "perf = get_model_perf(classifier, x_train, y_train, x_test, y_test, batch_size=batch_size)\n",
    "pd.DataFrame(perf, index=['Performance with Neural Network and CountVectorizer']).T"
   ]
  },
  {
   "cell_type": "code",
   "execution_count": 19,
   "metadata": {},
   "outputs": [
    {
     "data": {
      "image/png": "[encoded data removed]",
      "text/plain": [
       "<Figure size 864x504 with 2 Axes>"
      ]
     },
     "metadata": {},
     "output_type": "display_data"
    }
   ],
   "source": [
    "# Let's look at the confusion matrix\n",
    "plot_confusion_matrix(classifier, x_test, y_test, labels, title='Confusion Matrix for Neural Net and CountVectorizer')"
   ]
  },
  {
   "cell_type": "markdown",
   "metadata": {},
   "source": [
    "#### Observations:\n",
    "- Count Vectorizer helped in vectorizing the preprocessed text and convert it to bag of words.\n",
    "- We experimented with two classifier models - Random Forrest Classifier and Neural Net based model.\n",
    "- Random Forrest Classifier performed fairly well on the vectorized data of bag of words with reasonable accuracy.\n",
    "- The Neural Net based model performed better than Random Forrest Classifier and demonstrated better classification performance.\n",
    "- Since the number of negative reviews are highest, the true positives for negative reviews are better than those for neutral and positive reviews.\n",
    "- True positives for neutral reviews are second best and are better than those for positive reviews.\n",
    "- False positives and false negatives for neutral and positive sentiments are higher than those for neutral reviews."
   ]
  },
  {
   "cell_type": "markdown",
   "metadata": {},
   "source": [
    "## Classifying Sentiments using TF-IDF Vectorizer <a class=\"anchor\" id='4'></a>"
   ]
  },
  {
   "cell_type": "code",
   "execution_count": 20,
   "metadata": {},
   "outputs": [
    {
     "name": "stdout",
     "output_type": "stream",
     "text": [
      "There are 14452 reviews with 10000 features\n"
     ]
    }
   ],
   "source": [
    "# Vectorize cleaned reviews with IF-IDF Vectorizer\n",
    "vectorizer = TfidfVectorizer(analyzer = \"word\", tokenizer = None, preprocessor = None, \n",
    "                            stop_words = None, max_features=10000, sublinear_tf=True)\n",
    "train_data_features = vectorizer.fit_transform(cleaned_reviews)\n",
    "train_data_features = train_data_features.toarray()\n",
    "print('There are {0} reviews with {1} features'.format(train_data_features.shape[0], train_data_features.shape[1]))"
   ]
  },
  {
   "cell_type": "code",
   "execution_count": 21,
   "metadata": {},
   "outputs": [
    {
     "name": "stdout",
     "output_type": "stream",
     "text": [
      "Sentiment labels:  ['negative', 'neutral', 'positive']\n",
      "\n",
      "Train data:\n",
      "X Train Shape: (11561, 10000)\n",
      "Y Train Shape: (11561, 3)\n",
      "\n",
      "Test Data:\n",
      "X Test Shape: (2891, 10000)\n",
      "Y Test Shape: (2891, 3)\n"
     ]
    }
   ],
   "source": [
    "# Prepare data for training\n",
    "X = train_data_features\n",
    "Y = data_df.iloc[:,1:]\n",
    "labels = data_df.columns.to_list()[1:]\n",
    "Y = np.array(Y)\n",
    "\n",
    "# Normalize the data\n",
    "scaler = RobustScaler()\n",
    "X = scaler.fit_transform(X)\n",
    "\n",
    "x_train, x_test, y_train, y_test = train_test_split(X, Y, test_size=0.20, random_state=SEED, stratify=Y)\n",
    "\n",
    "# Print distributions\n",
    "print('Sentiment labels: ', labels)\n",
    "print()\n",
    "print('Train data:')\n",
    "print('X Train Shape:', x_train.shape)\n",
    "print('Y Train Shape:', y_train.shape)\n",
    "print()\n",
    "print('Test Data:')\n",
    "print('X Test Shape:', x_test.shape)\n",
    "print('Y Test Shape:', y_test.shape)"
   ]
  },
  {
   "cell_type": "markdown",
   "metadata": {},
   "source": [
    "### Classification with Random Forrest Classifier and TF-IDF Vectorizer"
   ]
  },
  {
   "cell_type": "code",
   "execution_count": 22,
   "metadata": {},
   "outputs": [
    {
     "name": "stdout",
     "output_type": "stream",
     "text": [
      "Classifier:  RandomForestClassifier(n_jobs=-1)\n",
      "Random Forrest Classification Accuracy with TF-IDF Vectorizer:  69.368\n"
     ]
    }
   ],
   "source": [
    "# Initialize a Random Forest classifier with 100 trees\n",
    "classifier = RandomForestClassifier(n_jobs=-1, n_estimators=100, verbose=0) \n",
    "print('Classifier: ', classifier)\n",
    "\n",
    "# Random forest performance through cross vaidation\n",
    "result = np.mean(cross_val_score(classifier, X, Y, cv=10))\n",
    "print('Random Forrest Classification Accuracy with TF-IDF Vectorizer: ', round(result*100.0,3))"
   ]
  },
  {
   "cell_type": "markdown",
   "metadata": {},
   "source": [
    "### Classification with Neural Net based Classifier and Count Vectorizer"
   ]
  },
  {
   "cell_type": "code",
   "execution_count": 23,
   "metadata": {},
   "outputs": [
    {
     "name": "stdout",
     "output_type": "stream",
     "text": [
      "Model: \"sequential_1\"\n",
      "_________________________________________________________________\n",
      "Layer (type)                 Output Shape              Param #   \n",
      "=================================================================\n",
      "dense_4 (Dense)              (None, 64)                640064    \n",
      "_________________________________________________________________\n",
      "batch_normalization_3 (Batch (None, 64)                256       \n",
      "_________________________________________________________________\n",
      "dense_5 (Dense)              (None, 32)                2080      \n",
      "_________________________________________________________________\n",
      "batch_normalization_4 (Batch (None, 32)                128       \n",
      "_________________________________________________________________\n",
      "dense_6 (Dense)              (None, 16)                528       \n",
      "_________________________________________________________________\n",
      "batch_normalization_5 (Batch (None, 16)                64        \n",
      "_________________________________________________________________\n",
      "dense_7 (Dense)              (None, 3)                 51        \n",
      "=================================================================\n",
      "Total params: 643,171\n",
      "Trainable params: 642,947\n",
      "Non-trainable params: 224\n",
      "_________________________________________________________________\n"
     ]
    }
   ],
   "source": [
    "# Get classifier instance and print summary\n",
    "classifier = get_classifier(input_shape=(10000,), lr=1e-5)\n",
    "classifier.summary()"
   ]
  },
  {
   "cell_type": "code",
   "execution_count": 24,
   "metadata": {},
   "outputs": [
    {
     "name": "stdout",
     "output_type": "stream",
     "text": [
      "Train on 9248 samples, validate on 2313 samples\n",
      "Epoch 1/50\n",
      "9248/9248 [==============================] - 6s 612us/sample - loss: 1.4462 - accuracy: 0.3187 - val_loss: 1.4477 - val_accuracy: 0.3878\n",
      "Epoch 2/50\n",
      "9248/9248 [==============================] - 5s 529us/sample - loss: 1.3005 - accuracy: 0.3625 - val_loss: 1.3186 - val_accuracy: 0.4042\n",
      "Epoch 3/50\n",
      "9248/9248 [==============================] - 5s 528us/sample - loss: 1.2149 - accuracy: 0.3980 - val_loss: 1.2273 - val_accuracy: 0.4518\n",
      "Epoch 4/50\n",
      "9248/9248 [==============================] - 5s 526us/sample - loss: 1.1256 - accuracy: 0.4396 - val_loss: 1.1383 - val_accuracy: 0.4760\n",
      "Epoch 5/50\n",
      "9248/9248 [==============================] - 5s 524us/sample - loss: 1.0683 - accuracy: 0.4694 - val_loss: 1.0979 - val_accuracy: 0.5089\n",
      "Epoch 6/50\n",
      "9248/9248 [==============================] - 5s 522us/sample - loss: 1.0274 - accuracy: 0.5008 - val_loss: 1.0339 - val_accuracy: 0.5201\n",
      "Epoch 7/50\n",
      "9248/9248 [==============================] - 5s 519us/sample - loss: 0.9816 - accuracy: 0.5315 - val_loss: 0.9949 - val_accuracy: 0.5473\n",
      "Epoch 8/50\n",
      "9248/9248 [==============================] - 5s 526us/sample - loss: 0.9367 - accuracy: 0.5615 - val_loss: 0.9669 - val_accuracy: 0.5560\n",
      "Epoch 9/50\n",
      "9248/9248 [==============================] - 5s 527us/sample - loss: 0.9031 - accuracy: 0.5846 - val_loss: 0.9147 - val_accuracy: 0.5919\n",
      "Epoch 10/50\n",
      "9248/9248 [==============================] - 5s 529us/sample - loss: 0.8790 - accuracy: 0.5970 - val_loss: 0.9013 - val_accuracy: 0.6018\n",
      "Epoch 11/50\n",
      "9248/9248 [==============================] - 5s 526us/sample - loss: 0.8492 - accuracy: 0.6191 - val_loss: 0.8695 - val_accuracy: 0.6260\n",
      "Epoch 12/50\n",
      "9248/9248 [==============================] - 5s 529us/sample - loss: 0.8213 - accuracy: 0.6338 - val_loss: 0.8415 - val_accuracy: 0.6498\n",
      "Epoch 13/50\n",
      "9248/9248 [==============================] - 5s 533us/sample - loss: 0.8018 - accuracy: 0.6527 - val_loss: 0.8236 - val_accuracy: 0.6524\n",
      "Epoch 14/50\n",
      "9248/9248 [==============================] - 5s 534us/sample - loss: 0.7629 - accuracy: 0.6736 - val_loss: 0.8186 - val_accuracy: 0.6567\n",
      "Epoch 15/50\n",
      "9248/9248 [==============================] - 5s 534us/sample - loss: 0.7579 - accuracy: 0.6700 - val_loss: 0.8036 - val_accuracy: 0.6567\n",
      "Epoch 16/50\n",
      "9248/9248 [==============================] - 5s 534us/sample - loss: 0.7434 - accuracy: 0.6877 - val_loss: 0.7856 - val_accuracy: 0.6645\n",
      "Epoch 17/50\n",
      "9248/9248 [==============================] - 5s 539us/sample - loss: 0.7174 - accuracy: 0.7003 - val_loss: 0.7683 - val_accuracy: 0.6779\n",
      "Epoch 18/50\n",
      "9248/9248 [==============================] - 5s 531us/sample - loss: 0.7046 - accuracy: 0.7062 - val_loss: 0.7653 - val_accuracy: 0.6766\n",
      "Epoch 19/50\n",
      "9248/9248 [==============================] - 5s 529us/sample - loss: 0.6945 - accuracy: 0.7144 - val_loss: 0.7583 - val_accuracy: 0.6783\n",
      "Epoch 20/50\n",
      "9248/9248 [==============================] - 5s 533us/sample - loss: 0.6739 - accuracy: 0.7237 - val_loss: 0.7480 - val_accuracy: 0.6861\n",
      "Epoch 21/50\n",
      "9248/9248 [==============================] - 5s 529us/sample - loss: 0.6629 - accuracy: 0.7301 - val_loss: 0.7393 - val_accuracy: 0.6866\n",
      "Epoch 22/50\n",
      "9248/9248 [==============================] - 5s 531us/sample - loss: 0.6414 - accuracy: 0.7385 - val_loss: 0.7330 - val_accuracy: 0.6883\n",
      "Epoch 23/50\n",
      "9248/9248 [==============================] - 5s 531us/sample - loss: 0.6404 - accuracy: 0.7399 - val_loss: 0.7351 - val_accuracy: 0.6991\n",
      "Epoch 24/50\n",
      "9248/9248 [==============================] - 5s 539us/sample - loss: 0.6360 - accuracy: 0.7456 - val_loss: 0.7334 - val_accuracy: 0.6909\n",
      "Epoch 25/50\n",
      "9248/9248 [==============================] - 5s 538us/sample - loss: 0.6150 - accuracy: 0.7532 - val_loss: 0.7261 - val_accuracy: 0.6939\n",
      "Epoch 26/50\n",
      "9248/9248 [==============================] - 5s 537us/sample - loss: 0.5961 - accuracy: 0.7675 - val_loss: 0.7219 - val_accuracy: 0.6991\n",
      "Epoch 27/50\n",
      "9248/9248 [==============================] - 5s 538us/sample - loss: 0.5902 - accuracy: 0.7678 - val_loss: 0.7241 - val_accuracy: 0.6935\n",
      "Epoch 28/50\n",
      "9248/9248 [==============================] - 5s 535us/sample - loss: 0.5720 - accuracy: 0.7775 - val_loss: 0.7174 - val_accuracy: 0.6987\n",
      "Epoch 29/50\n",
      "9248/9248 [==============================] - 5s 532us/sample - loss: 0.5608 - accuracy: 0.7769 - val_loss: 0.7168 - val_accuracy: 0.7103\n",
      "Epoch 30/50\n",
      "9248/9248 [==============================] - 5s 537us/sample - loss: 0.5572 - accuracy: 0.7806 - val_loss: 0.7137 - val_accuracy: 0.7017\n",
      "Epoch 31/50\n",
      "9248/9248 [==============================] - 5s 528us/sample - loss: 0.5361 - accuracy: 0.7933 - val_loss: 0.7159 - val_accuracy: 0.7034\n",
      "Epoch 32/50\n",
      "9248/9248 [==============================] - 5s 534us/sample - loss: 0.5387 - accuracy: 0.7905 - val_loss: 0.7114 - val_accuracy: 0.7008\n",
      "Epoch 33/50\n",
      "9248/9248 [==============================] - 5s 536us/sample - loss: 0.5123 - accuracy: 0.8077 - val_loss: 0.7134 - val_accuracy: 0.7077\n",
      "Epoch 34/50\n",
      "9248/9248 [==============================] - 5s 548us/sample - loss: 0.5214 - accuracy: 0.7990 - val_loss: 0.7181 - val_accuracy: 0.7047\n",
      "Epoch 35/50\n",
      "9248/9248 [==============================] - 5s 536us/sample - loss: 0.5156 - accuracy: 0.8058 - val_loss: 0.7154 - val_accuracy: 0.7108\n",
      "Epoch 36/50\n",
      "9248/9248 [==============================] - 5s 530us/sample - loss: 0.4982 - accuracy: 0.8116 - val_loss: 0.7181 - val_accuracy: 0.7077\n",
      "Epoch 37/50\n",
      "9248/9248 [==============================] - 5s 538us/sample - loss: 0.4915 - accuracy: 0.8173 - val_loss: 0.7197 - val_accuracy: 0.7082\n",
      "Epoch 38/50\n",
      "9248/9248 [==============================] - 5s 534us/sample - loss: 0.4856 - accuracy: 0.8223 - val_loss: 0.7237 - val_accuracy: 0.7099\n",
      "Epoch 39/50\n",
      "9248/9248 [==============================] - 5s 534us/sample - loss: 0.4656 - accuracy: 0.8288 - val_loss: 0.7209 - val_accuracy: 0.7108\n",
      "Epoch 40/50\n",
      "9248/9248 [==============================] - 5s 535us/sample - loss: 0.4641 - accuracy: 0.8228 - val_loss: 0.7244 - val_accuracy: 0.7095\n",
      "Epoch 41/50\n",
      "9248/9248 [==============================] - 5s 533us/sample - loss: 0.4493 - accuracy: 0.8353 - val_loss: 0.7308 - val_accuracy: 0.7134\n",
      "Epoch 42/50\n",
      "9248/9248 [==============================] - 5s 530us/sample - loss: 0.4526 - accuracy: 0.8324 - val_loss: 0.7261 - val_accuracy: 0.7155\n",
      "Epoch 43/50\n",
      "9248/9248 [==============================] - 5s 537us/sample - loss: 0.4298 - accuracy: 0.8472 - val_loss: 0.7330 - val_accuracy: 0.7095\n",
      "Epoch 44/50\n",
      "9248/9248 [==============================] - 5s 533us/sample - loss: 0.4381 - accuracy: 0.8391 - val_loss: 0.7374 - val_accuracy: 0.7121\n",
      "Epoch 45/50\n",
      "9248/9248 [==============================] - 5s 528us/sample - loss: 0.4257 - accuracy: 0.8463 - val_loss: 0.7500 - val_accuracy: 0.7086\n",
      "Epoch 46/50\n",
      "9248/9248 [==============================] - 5s 531us/sample - loss: 0.4154 - accuracy: 0.8497 - val_loss: 0.7446 - val_accuracy: 0.7077\n",
      "Epoch 47/50\n",
      "9248/9248 [==============================] - 5s 535us/sample - loss: 0.4083 - accuracy: 0.8528 - val_loss: 0.7494 - val_accuracy: 0.7147\n",
      "Epoch 48/50\n",
      "9248/9248 [==============================] - 5s 533us/sample - loss: 0.4045 - accuracy: 0.8547 - val_loss: 0.7489 - val_accuracy: 0.7103\n",
      "Epoch 49/50\n",
      "9248/9248 [==============================] - 5s 537us/sample - loss: 0.3920 - accuracy: 0.8613 - val_loss: 0.7589 - val_accuracy: 0.7086\n",
      "Epoch 50/50\n",
      "9248/9248 [==============================] - 5s 539us/sample - loss: 0.3721 - accuracy: 0.8693 - val_loss: 0.7624 - val_accuracy: 0.7095\n"
     ]
    }
   ],
   "source": [
    "# Train the model.\n",
    "train_hist = None\n",
    "\n",
    "# Hyperparameters for training\n",
    "epochs = 50\n",
    "batch_size = 4\n",
    "val_split = 0.2\n",
    "verbose = True\n",
    "\n",
    "# Note: The model is being trained on physical GPU instance. If no physical GPU is present then,\n",
    "# comment out below line to train the model on CPU.\n",
    "with tf.device('/device:GPU:0'):    \n",
    "    train_hist = classifier.fit(x_train, y_train, epochs=epochs, validation_split=val_split, batch_size=batch_size, \n",
    "                                verbose=verbose)"
   ]
  },
  {
   "cell_type": "code",
   "execution_count": 25,
   "metadata": {},
   "outputs": [
    {
     "data": {
      "image/png": "[encoded data removed]",
      "text/plain": [
       "<Figure size 720x504 with 1 Axes>"
      ]
     },
     "metadata": {},
     "output_type": "display_data"
    }
   ],
   "source": [
    "# Let's plot the losses from training history to check if there was overfitting. \n",
    "# Continuous decrease in train loss but increase in validation loss would indicate overfitting.\n",
    "plot_train_hist_loss(train_hist)"
   ]
  },
  {
   "cell_type": "code",
   "execution_count": 26,
   "metadata": {},
   "outputs": [
    {
     "data": {
      "text/html": [
       "<div>\n",
       "<style scoped>\n",
       "    .dataframe tbody tr th:only-of-type {\n",
       "        vertical-align: middle;\n",
       "    }\n",
       "\n",
       "    .dataframe tbody tr th {\n",
       "        vertical-align: top;\n",
       "    }\n",
       "\n",
       "    .dataframe thead th {\n",
       "        text-align: right;\n",
       "    }\n",
       "</style>\n",
       "<table border=\"1\" class=\"dataframe\">\n",
       "  <thead>\n",
       "    <tr style=\"text-align: right;\">\n",
       "      <th></th>\n",
       "      <th>Performance with Neural Network and TF-IDF Vectorizer</th>\n",
       "    </tr>\n",
       "  </thead>\n",
       "  <tbody>\n",
       "    <tr>\n",
       "      <th>Train accuracy</th>\n",
       "      <td>90.909</td>\n",
       "    </tr>\n",
       "    <tr>\n",
       "      <th>Test accuracy</th>\n",
       "      <td>70.633</td>\n",
       "    </tr>\n",
       "    <tr>\n",
       "      <th>Recall Score</th>\n",
       "      <td>0.681</td>\n",
       "    </tr>\n",
       "    <tr>\n",
       "      <th>Precision Score</th>\n",
       "      <td>0.721</td>\n",
       "    </tr>\n",
       "  </tbody>\n",
       "</table>\n",
       "</div>"
      ],
      "text/plain": [
       "                 Performance with Neural Network and TF-IDF Vectorizer\n",
       "Train accuracy                                              90.909    \n",
       "Test accuracy                                               70.633    \n",
       "Recall Score                                                 0.681    \n",
       "Precision Score                                              0.721    "
      ]
     },
     "execution_count": 26,
     "metadata": {},
     "output_type": "execute_result"
    }
   ],
   "source": [
    "# Let's look at the classifier performance using TF-IDF vectorizer\n",
    "perf = get_model_perf(classifier, x_train, y_train, x_test, y_test, batch_size=batch_size)\n",
    "pd.DataFrame(perf, index=['Performance with Neural Network and TF-IDF Vectorizer']).T"
   ]
  },
  {
   "cell_type": "code",
   "execution_count": 27,
   "metadata": {},
   "outputs": [
    {
     "data": {
      "image/png": "[encoded data removed]",
      "text/plain": [
       "<Figure size 864x504 with 2 Axes>"
      ]
     },
     "metadata": {},
     "output_type": "display_data"
    }
   ],
   "source": [
    "# Let's look at the confusion matrix\n",
    "plot_confusion_matrix(classifier, x_test, y_test, labels, title='Confusion Matrix for Neural Net and CountVectorizer')"
   ]
  },
  {
   "cell_type": "markdown",
   "metadata": {},
   "source": [
    "#### Observations:\n",
    "- TF-IDF Vectorization considers the relative importance of words across the corpus. \n",
    "- Random Forrest Classifier performed better with TF-IDF based vectorization.\n",
    "- Neural Net based Classifier with TF-IDF vectorization, performed very close to that of count vectorization. May be further hyper parameter tuning would yield better results."
   ]
  },
  {
   "cell_type": "markdown",
   "metadata": {},
   "source": [
    "## Summary and Concluding Remarks <a class=\"anchor\" id='5'></a>"
   ]
  },
  {
   "cell_type": "markdown",
   "metadata": {},
   "source": [
    "- The raw-text of the tweets was preprocessed to remove HTML tags, numbers, special characters and punctuations. The text was then tokenized, converted to lower case and lemmatized.\n",
    "- Preprocessing of the raw text of tweets was extremely important as it brought semantic consistency to the corpus and reduced lot of unwanted words that would have not contributed to the sentiment. \n",
    "- The Count Vectorizer helped in creating bag of words but lost the order of the words and hence their relative importance. \n",
    "- TF-IDF Vectorizer added importance to the words based on how they appeared not just in their own document, but also in the entire corpus. \n",
    "- Random Forrest classifier performed slightly better with TF-IDF vectorization as compared to the count vectorization.\n",
    "- The Neural Net based model performed better than the Random Forrest Classifier. Unlike Random Forrest Classifier, this model performed slightly better with count vectorization may be because it was able to capture the token relationships better with count vectorization. \n",
    "\n",
    "FURTHER IMPROVEMENTS:\n",
    "- Semantic tokenization can further help to get the better tokenization. Such as, 'aaadvantage' could have broken down into 'aa' and 'advantage.\n",
    "- Use of Bi or Tri gram based models and tokenization can help with capturing significance of sequence of words in a tweet. This can further improve the classification performance.\n",
    "- Some advanced neural net architectures, including RNN, LSTM, GRU and attention techniques, can help capture the significance of variable length word sequences and result in the much better classification performance."
   ]
  },
  {
   "cell_type": "code",
   "execution_count": null,
   "metadata": {},
   "outputs": [],
   "source": []
  }
 ],
 "metadata": {
  "kernelspec": {
   "display_name": "Python 3",
   "language": "python",
   "name": "python3"
  },
  "language_info": {
   "codemirror_mode": {
    "name": "ipython",
    "version": 3
   },
   "file_extension": ".py",
   "mimetype": "text/x-python",
   "name": "python",
   "nbconvert_exporter": "python",
   "pygments_lexer": "ipython3",
   "version": "3.7.9"
  }
 },
 "nbformat": 4,
 "nbformat_minor": 4
}
